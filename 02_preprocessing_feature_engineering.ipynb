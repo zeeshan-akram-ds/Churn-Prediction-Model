{
 "cells": [
  {
   "cell_type": "markdown",
   "id": "ac2a9799-a1c9-43bb-ac04-5f64aae2a5b5",
   "metadata": {},
   "source": [
    "# 02 - Preprocessing & Feature Engineering\n",
    "\n",
    "This notebook continues from **01_data_eda.ipynb**.  \n",
    "The dataset has already been cleaned, explored, and saved in a processed form.  \n",
    "Here, I focus on:\n",
    "- Preprocessing (handling missing values, encoding, scaling, splits)\n",
    "- Feature engineering (derived features, interactions, transformations)\n",
    "- Preparing data for modeling\n",
    "\n",
    "## Introduction\n",
    "I begin this notebook by loading the processed dataset from the EDA phase. The EDA identified key insights, feature selections, and potential engineering opportunities, which I will now implement. My goal is to transform the data into a modeling-ready format, ensuring robust preprocessing and meaningful feature enhancements.\n",
    "\n",
    "## Loading Data\n",
    "I load the cleaned dataset saved from the EDA notebook, verifying its structure and integrity before proceeding with further steps.\n",
    "\n",
    "## Preprocessing Steps\n",
    "- **Missing Values**: I confirm no significant missing data remains post-EDA imputation (e.g., `totalcharges` median fill).\n",
    "- **Encoding Categorical Variables**: I apply one-hot encoding to categorical features (e.g., `contract`, `internetservice`) and label encoding where appropriate.\n",
    "- **Scaling Numerical Features**: I standardize `tenure` and `monthlycharges` using StandardScaler to normalize their ranges.\n",
    "- **Train-Test Split**: I split the data into training (80%) and testing (20%) sets, ensuring stratification on `churn` to maintain class balance.\n",
    "\n",
    "## Feature Engineering\n",
    "- **Derived Features**: I create `total_services` by summing binary service columns (e.g., `onlinesecurity`, `techsupport`, `multiplelines` before drop).\n",
    "- **Interaction Terms**: I explore interactions (e.g., `tenure` × `contract`) to capture combined effects.\n",
    "- **Transformations**: I consider log transformation for skewed features if needed post-scaling.\n",
    "- **Feature Drop**: I finalize dropping `multiplelines` (low MI: 0.000801) and implement an `has_internet` indicator based on EDA insights for \"No Internet Service\" stability.\n",
    "\n",
    "## Validation and Output\n",
    "I validate transformations (e.g., check encoded shapes, scaled distributions) and save the preprocessed dataset for modeling in the next notebook.\n",
    "\n",
    "## Next Steps\n",
    "- Proceed to modeling notebook for algorithm selection, training, and evaluation."
   ]
  },
  {
   "cell_type": "markdown",
   "id": "934a49d9-d1d8-4756-93cc-b9adc5f8ec32",
   "metadata": {},
   "source": [
    "### Importing Required Libraries"
   ]
  },
  {
   "cell_type": "code",
   "execution_count": 127,
   "id": "c43c4406-3719-4bce-ad10-ad453cb002cf",
   "metadata": {},
   "outputs": [],
   "source": [
    "import pandas as pd\n",
    "import numpy as np\n",
    "\n",
    "import matplotlib.pyplot as plt\n",
    "import seaborn as sns\n",
    "import plotly.express as px\n",
    "\n",
    "from sklearn.preprocessing import StandardScaler, OneHotEncoder, OrdinalEncoder, PolynomialFeatures\n",
    "from sklearn.compose import ColumnTransformer\n",
    "from sklearn.pipeline import Pipeline\n",
    "from sklearn.feature_selection import mutual_info_classif\n",
    "from imblearn.over_sampling import SMOTE, ADASYN\n",
    "from sklearn.metrics import accuracy_score, precision_recall_curve, confusion_matrix, classification_report, roc_auc_score, auc, average_precision_score, ConfusionMatrixDisplay, PrecisionRecallDisplay, RocCurveDisplay\n",
    "\n",
    "import joblib\n",
    "import shap\n",
    "import warnings\n",
    "warnings.filterwarnings('ignore', category=UserWarning, module=\"tqdm\")"
   ]
  },
  {
   "cell_type": "markdown",
   "id": "b0397aa6-4e5d-446e-82a3-fe2d7601abe6",
   "metadata": {},
   "source": [
    "### Loading Cleaned Data"
   ]
  },
  {
   "cell_type": "code",
   "execution_count": 94,
   "id": "0f260cf8-8d5f-4631-b494-4a837312395c",
   "metadata": {},
   "outputs": [
    {
     "data": {
      "text/html": [
       "<div>\n",
       "<style scoped>\n",
       "    .dataframe tbody tr th:only-of-type {\n",
       "        vertical-align: middle;\n",
       "    }\n",
       "\n",
       "    .dataframe tbody tr th {\n",
       "        vertical-align: top;\n",
       "    }\n",
       "\n",
       "    .dataframe thead th {\n",
       "        text-align: right;\n",
       "    }\n",
       "</style>\n",
       "<table border=\"1\" class=\"dataframe\">\n",
       "  <thead>\n",
       "    <tr style=\"text-align: right;\">\n",
       "      <th></th>\n",
       "      <th>seniorcitizen</th>\n",
       "      <th>partner</th>\n",
       "      <th>dependents</th>\n",
       "      <th>tenure</th>\n",
       "      <th>multiplelines</th>\n",
       "      <th>internetservice</th>\n",
       "      <th>onlinesecurity</th>\n",
       "      <th>onlinebackup</th>\n",
       "      <th>deviceprotection</th>\n",
       "      <th>techsupport</th>\n",
       "      <th>streamingtv</th>\n",
       "      <th>streamingmovies</th>\n",
       "      <th>contract</th>\n",
       "      <th>paperlessbilling</th>\n",
       "      <th>paymentmethod</th>\n",
       "      <th>monthlycharges</th>\n",
       "      <th>churn</th>\n",
       "      <th>tenure_group</th>\n",
       "      <th>MC_group</th>\n",
       "    </tr>\n",
       "  </thead>\n",
       "  <tbody>\n",
       "    <tr>\n",
       "      <th>0</th>\n",
       "      <td>0</td>\n",
       "      <td>Yes</td>\n",
       "      <td>No</td>\n",
       "      <td>1</td>\n",
       "      <td>No phone service</td>\n",
       "      <td>DSL</td>\n",
       "      <td>No</td>\n",
       "      <td>Yes</td>\n",
       "      <td>No</td>\n",
       "      <td>No</td>\n",
       "      <td>No</td>\n",
       "      <td>No</td>\n",
       "      <td>Month-to-month</td>\n",
       "      <td>Yes</td>\n",
       "      <td>Electronic check</td>\n",
       "      <td>29.85</td>\n",
       "      <td>0</td>\n",
       "      <td>0-12 Months</td>\n",
       "      <td>Low</td>\n",
       "    </tr>\n",
       "    <tr>\n",
       "      <th>1</th>\n",
       "      <td>0</td>\n",
       "      <td>No</td>\n",
       "      <td>No</td>\n",
       "      <td>34</td>\n",
       "      <td>No</td>\n",
       "      <td>DSL</td>\n",
       "      <td>Yes</td>\n",
       "      <td>No</td>\n",
       "      <td>Yes</td>\n",
       "      <td>No</td>\n",
       "      <td>No</td>\n",
       "      <td>No</td>\n",
       "      <td>One year</td>\n",
       "      <td>No</td>\n",
       "      <td>Mailed check</td>\n",
       "      <td>56.95</td>\n",
       "      <td>0</td>\n",
       "      <td>25-48 Months</td>\n",
       "      <td>Mid</td>\n",
       "    </tr>\n",
       "    <tr>\n",
       "      <th>2</th>\n",
       "      <td>0</td>\n",
       "      <td>No</td>\n",
       "      <td>No</td>\n",
       "      <td>2</td>\n",
       "      <td>No</td>\n",
       "      <td>DSL</td>\n",
       "      <td>Yes</td>\n",
       "      <td>Yes</td>\n",
       "      <td>No</td>\n",
       "      <td>No</td>\n",
       "      <td>No</td>\n",
       "      <td>No</td>\n",
       "      <td>Month-to-month</td>\n",
       "      <td>Yes</td>\n",
       "      <td>Mailed check</td>\n",
       "      <td>53.85</td>\n",
       "      <td>1</td>\n",
       "      <td>0-12 Months</td>\n",
       "      <td>Mid</td>\n",
       "    </tr>\n",
       "    <tr>\n",
       "      <th>3</th>\n",
       "      <td>0</td>\n",
       "      <td>No</td>\n",
       "      <td>No</td>\n",
       "      <td>45</td>\n",
       "      <td>No phone service</td>\n",
       "      <td>DSL</td>\n",
       "      <td>Yes</td>\n",
       "      <td>No</td>\n",
       "      <td>Yes</td>\n",
       "      <td>Yes</td>\n",
       "      <td>No</td>\n",
       "      <td>No</td>\n",
       "      <td>One year</td>\n",
       "      <td>No</td>\n",
       "      <td>Bank transfer (automatic)</td>\n",
       "      <td>42.30</td>\n",
       "      <td>0</td>\n",
       "      <td>25-48 Months</td>\n",
       "      <td>Low</td>\n",
       "    </tr>\n",
       "    <tr>\n",
       "      <th>4</th>\n",
       "      <td>0</td>\n",
       "      <td>No</td>\n",
       "      <td>No</td>\n",
       "      <td>2</td>\n",
       "      <td>No</td>\n",
       "      <td>Fiber optic</td>\n",
       "      <td>No</td>\n",
       "      <td>No</td>\n",
       "      <td>No</td>\n",
       "      <td>No</td>\n",
       "      <td>No</td>\n",
       "      <td>No</td>\n",
       "      <td>Month-to-month</td>\n",
       "      <td>Yes</td>\n",
       "      <td>Electronic check</td>\n",
       "      <td>70.70</td>\n",
       "      <td>1</td>\n",
       "      <td>0-12 Months</td>\n",
       "      <td>Mid</td>\n",
       "    </tr>\n",
       "  </tbody>\n",
       "</table>\n",
       "</div>"
      ],
      "text/plain": [
       "   seniorcitizen partner dependents  tenure     multiplelines internetservice  \\\n",
       "0              0     Yes         No       1  No phone service             DSL   \n",
       "1              0      No         No      34                No             DSL   \n",
       "2              0      No         No       2                No             DSL   \n",
       "3              0      No         No      45  No phone service             DSL   \n",
       "4              0      No         No       2                No     Fiber optic   \n",
       "\n",
       "  onlinesecurity onlinebackup deviceprotection techsupport streamingtv  \\\n",
       "0             No          Yes               No          No          No   \n",
       "1            Yes           No              Yes          No          No   \n",
       "2            Yes          Yes               No          No          No   \n",
       "3            Yes           No              Yes         Yes          No   \n",
       "4             No           No               No          No          No   \n",
       "\n",
       "  streamingmovies        contract paperlessbilling              paymentmethod  \\\n",
       "0              No  Month-to-month              Yes           Electronic check   \n",
       "1              No        One year               No               Mailed check   \n",
       "2              No  Month-to-month              Yes               Mailed check   \n",
       "3              No        One year               No  Bank transfer (automatic)   \n",
       "4              No  Month-to-month              Yes           Electronic check   \n",
       "\n",
       "   monthlycharges  churn  tenure_group MC_group  \n",
       "0           29.85      0   0-12 Months      Low  \n",
       "1           56.95      0  25-48 Months      Mid  \n",
       "2           53.85      1   0-12 Months      Mid  \n",
       "3           42.30      0  25-48 Months      Low  \n",
       "4           70.70      1   0-12 Months      Mid  "
      ]
     },
     "execution_count": 94,
     "metadata": {},
     "output_type": "execute_result"
    }
   ],
   "source": [
    "df = pd.read_csv(\"cleaned_heartdisease_data.csv\")\n",
    "df.drop('Unnamed: 0', axis=1, inplace=True)\n",
    "## Preview\n",
    "df.head()"
   ]
  },
  {
   "cell_type": "code",
   "execution_count": 95,
   "id": "01d02374-741f-4bff-9198-39d5a5d30abc",
   "metadata": {},
   "outputs": [
    {
     "data": {
      "text/plain": [
       "(7043, 19)"
      ]
     },
     "execution_count": 95,
     "metadata": {},
     "output_type": "execute_result"
    }
   ],
   "source": [
    "df.shape"
   ]
  },
  {
   "cell_type": "markdown",
   "id": "2bcfc623-dce4-4607-8914-097becd6475d",
   "metadata": {},
   "source": [
    "## Feature Engineering"
   ]
  },
  {
   "cell_type": "markdown",
   "id": "137e50ca-e096-4a84-859d-0f1c05f75b73",
   "metadata": {},
   "source": [
    "### `has_internet` binary feature"
   ]
  },
  {
   "cell_type": "code",
   "execution_count": 100,
   "id": "5f3748f7-d60a-4083-a187-994d85a26020",
   "metadata": {},
   "outputs": [
    {
     "data": {
      "text/html": [
       "<div>\n",
       "<style scoped>\n",
       "    .dataframe tbody tr th:only-of-type {\n",
       "        vertical-align: middle;\n",
       "    }\n",
       "\n",
       "    .dataframe tbody tr th {\n",
       "        vertical-align: top;\n",
       "    }\n",
       "\n",
       "    .dataframe thead th {\n",
       "        text-align: right;\n",
       "    }\n",
       "</style>\n",
       "<table border=\"1\" class=\"dataframe\">\n",
       "  <thead>\n",
       "    <tr style=\"text-align: right;\">\n",
       "      <th></th>\n",
       "      <th>seniorcitizen</th>\n",
       "      <th>partner</th>\n",
       "      <th>dependents</th>\n",
       "      <th>tenure</th>\n",
       "      <th>multiplelines</th>\n",
       "      <th>internetservice</th>\n",
       "      <th>onlinesecurity</th>\n",
       "      <th>onlinebackup</th>\n",
       "      <th>deviceprotection</th>\n",
       "      <th>techsupport</th>\n",
       "      <th>streamingtv</th>\n",
       "      <th>streamingmovies</th>\n",
       "      <th>contract</th>\n",
       "      <th>paperlessbilling</th>\n",
       "      <th>paymentmethod</th>\n",
       "      <th>monthlycharges</th>\n",
       "      <th>churn</th>\n",
       "      <th>tenure_group</th>\n",
       "      <th>MC_group</th>\n",
       "      <th>has_internet</th>\n",
       "    </tr>\n",
       "  </thead>\n",
       "  <tbody>\n",
       "    <tr>\n",
       "      <th>5969</th>\n",
       "      <td>0</td>\n",
       "      <td>No</td>\n",
       "      <td>No</td>\n",
       "      <td>31</td>\n",
       "      <td>No</td>\n",
       "      <td>Fiber optic</td>\n",
       "      <td>Yes</td>\n",
       "      <td>No</td>\n",
       "      <td>Yes</td>\n",
       "      <td>Yes</td>\n",
       "      <td>No</td>\n",
       "      <td>No</td>\n",
       "      <td>Month-to-month</td>\n",
       "      <td>No</td>\n",
       "      <td>Electronic check</td>\n",
       "      <td>87.60</td>\n",
       "      <td>0</td>\n",
       "      <td>25-48 Months</td>\n",
       "      <td>Mid</td>\n",
       "      <td>1</td>\n",
       "    </tr>\n",
       "    <tr>\n",
       "      <th>4246</th>\n",
       "      <td>0</td>\n",
       "      <td>Yes</td>\n",
       "      <td>Yes</td>\n",
       "      <td>68</td>\n",
       "      <td>Yes</td>\n",
       "      <td>Fiber optic</td>\n",
       "      <td>Yes</td>\n",
       "      <td>Yes</td>\n",
       "      <td>Yes</td>\n",
       "      <td>No</td>\n",
       "      <td>Yes</td>\n",
       "      <td>Yes</td>\n",
       "      <td>Two year</td>\n",
       "      <td>Yes</td>\n",
       "      <td>Electronic check</td>\n",
       "      <td>110.20</td>\n",
       "      <td>0</td>\n",
       "      <td>49-72 Months</td>\n",
       "      <td>High</td>\n",
       "      <td>1</td>\n",
       "    </tr>\n",
       "    <tr>\n",
       "      <th>5080</th>\n",
       "      <td>0</td>\n",
       "      <td>Yes</td>\n",
       "      <td>No</td>\n",
       "      <td>67</td>\n",
       "      <td>Yes</td>\n",
       "      <td>Fiber optic</td>\n",
       "      <td>No</td>\n",
       "      <td>Yes</td>\n",
       "      <td>Yes</td>\n",
       "      <td>No</td>\n",
       "      <td>No</td>\n",
       "      <td>Yes</td>\n",
       "      <td>Two year</td>\n",
       "      <td>Yes</td>\n",
       "      <td>Electronic check</td>\n",
       "      <td>93.15</td>\n",
       "      <td>0</td>\n",
       "      <td>49-72 Months</td>\n",
       "      <td>High</td>\n",
       "      <td>1</td>\n",
       "    </tr>\n",
       "  </tbody>\n",
       "</table>\n",
       "</div>"
      ],
      "text/plain": [
       "      seniorcitizen partner dependents  tenure multiplelines internetservice  \\\n",
       "5969              0      No         No      31            No     Fiber optic   \n",
       "4246              0     Yes        Yes      68           Yes     Fiber optic   \n",
       "5080              0     Yes         No      67           Yes     Fiber optic   \n",
       "\n",
       "     onlinesecurity onlinebackup deviceprotection techsupport streamingtv  \\\n",
       "5969            Yes           No              Yes         Yes          No   \n",
       "4246            Yes          Yes              Yes          No         Yes   \n",
       "5080             No          Yes              Yes          No          No   \n",
       "\n",
       "     streamingmovies        contract paperlessbilling     paymentmethod  \\\n",
       "5969              No  Month-to-month               No  Electronic check   \n",
       "4246             Yes        Two year              Yes  Electronic check   \n",
       "5080             Yes        Two year              Yes  Electronic check   \n",
       "\n",
       "      monthlycharges  churn  tenure_group MC_group  has_internet  \n",
       "5969           87.60      0  25-48 Months      Mid             1  \n",
       "4246          110.20      0  49-72 Months     High             1  \n",
       "5080           93.15      0  49-72 Months     High             1  "
      ]
     },
     "execution_count": 100,
     "metadata": {},
     "output_type": "execute_result"
    }
   ],
   "source": [
    "df['has_internet'] = df['internetservice'].apply(lambda x: 0 if x=='No' else 1)\n",
    "## Preview\n",
    "df.sample(3)"
   ]
  },
  {
   "cell_type": "markdown",
   "id": "cb105d9a-1276-4264-a753-0a93f0a5ab85",
   "metadata": {},
   "source": [
    "### Total Online Services Count Feature"
   ]
  },
  {
   "cell_type": "markdown",
   "id": "0be7aec4-539c-4267-bfdd-6251d0ec50ea",
   "metadata": {},
   "source": [
    "- As my previous EDA analysis shows different churn pattern for online services/support and streaming services.So, i will create seperate feature\n",
    "                                                            for both so the derived feature should capture most of the information.\n",
    "- Before creating this feature, I have to convert them to integar values.\n",
    "- As `has_internet` is already an indicator for internet So, no internet service feature in all these features is redundant and i will map it to No."
   ]
  },
  {
   "cell_type": "code",
   "execution_count": 104,
   "id": "587643a1-00ad-49b9-a78d-aac755b6e9f2",
   "metadata": {},
   "outputs": [],
   "source": [
    "security_features = ['onlinesecurity', 'onlinebackup', 'deviceprotection', 'techsupport']\n",
    "\n",
    "# Defining the mapping for the three categories\n",
    "mapping = {'Yes': 1, 'No': 0, 'No internet service': 0}\n",
    "\n",
    "for col in security_features:\n",
    "    df[col] = df[col].map(mapping)\n",
    "    \n",
    "df['NumSecurityServices'] = df[security_features].sum(axis=1)"
   ]
  },
  {
   "cell_type": "markdown",
   "id": "6e17c7e5-0576-453b-b7ba-c41974fa948b",
   "metadata": {},
   "source": [
    "### Total Streaming Services Count Feature"
   ]
  },
  {
   "cell_type": "markdown",
   "id": "fb4dae28-6976-4002-bc77-86d061575b3e",
   "metadata": {},
   "source": [
    "- As my previous analysis, these are showing different churn patterns in which customers with access to them are leaving. So, i will \n",
    "derive new feature named as `NumStreamingServices`."
   ]
  },
  {
   "cell_type": "code",
   "execution_count": 108,
   "id": "f0cfec0a-7b93-4642-9901-a7c2f06bbaf8",
   "metadata": {},
   "outputs": [],
   "source": [
    "streaming_features = ['streamingmovies', 'streamingtv']\n",
    "\n",
    "# Defining the mapping for the three categories\n",
    "mapping = {'Yes': 1, 'No': 0, 'No internet service': 0}\n",
    "\n",
    "for col in streaming_features:\n",
    "    df[col] = df[col].map(mapping)\n",
    "df['NumStreamingServices'] = df[streaming_features].sum(axis=1)"
   ]
  },
  {
   "cell_type": "markdown",
   "id": "ca49884e-cdc4-4855-badd-fc10cc3d17a4",
   "metadata": {},
   "source": [
    "### Data Preview of New Features"
   ]
  },
  {
   "cell_type": "code",
   "execution_count": 111,
   "id": "35032f61-0906-427e-9e6f-5ef471bcae6d",
   "metadata": {},
   "outputs": [
    {
     "data": {
      "text/html": [
       "<div>\n",
       "<style scoped>\n",
       "    .dataframe tbody tr th:only-of-type {\n",
       "        vertical-align: middle;\n",
       "    }\n",
       "\n",
       "    .dataframe tbody tr th {\n",
       "        vertical-align: top;\n",
       "    }\n",
       "\n",
       "    .dataframe thead th {\n",
       "        text-align: right;\n",
       "    }\n",
       "</style>\n",
       "<table border=\"1\" class=\"dataframe\">\n",
       "  <thead>\n",
       "    <tr style=\"text-align: right;\">\n",
       "      <th></th>\n",
       "      <th>tenure</th>\n",
       "      <th>has_internet</th>\n",
       "      <th>NumSecurityServices</th>\n",
       "      <th>NumStreamingServices</th>\n",
       "    </tr>\n",
       "  </thead>\n",
       "  <tbody>\n",
       "    <tr>\n",
       "      <th>2351</th>\n",
       "      <td>49</td>\n",
       "      <td>1</td>\n",
       "      <td>4</td>\n",
       "      <td>0</td>\n",
       "    </tr>\n",
       "    <tr>\n",
       "      <th>1146</th>\n",
       "      <td>29</td>\n",
       "      <td>1</td>\n",
       "      <td>2</td>\n",
       "      <td>0</td>\n",
       "    </tr>\n",
       "    <tr>\n",
       "      <th>1843</th>\n",
       "      <td>71</td>\n",
       "      <td>0</td>\n",
       "      <td>0</td>\n",
       "      <td>0</td>\n",
       "    </tr>\n",
       "    <tr>\n",
       "      <th>6876</th>\n",
       "      <td>62</td>\n",
       "      <td>1</td>\n",
       "      <td>3</td>\n",
       "      <td>2</td>\n",
       "    </tr>\n",
       "  </tbody>\n",
       "</table>\n",
       "</div>"
      ],
      "text/plain": [
       "      tenure  has_internet  NumSecurityServices  NumStreamingServices\n",
       "2351      49             1                    4                     0\n",
       "1146      29             1                    2                     0\n",
       "1843      71             0                    0                     0\n",
       "6876      62             1                    3                     2"
      ]
     },
     "execution_count": 111,
     "metadata": {},
     "output_type": "execute_result"
    }
   ],
   "source": [
    "df[['tenure', 'has_internet', 'NumSecurityServices', 'NumStreamingServices']].sample(4)"
   ]
  },
  {
   "cell_type": "markdown",
   "id": "7e3dbc7e-ce47-4e65-b361-6589cf350bac",
   "metadata": {},
   "source": [
    "### Missing Check"
   ]
  },
  {
   "cell_type": "code",
   "execution_count": 114,
   "id": "c9f4568b-d0dc-4654-a981-8519d737d051",
   "metadata": {},
   "outputs": [
    {
     "data": {
      "text/plain": [
       "seniorcitizen           0\n",
       "partner                 0\n",
       "dependents              0\n",
       "tenure                  0\n",
       "multiplelines           0\n",
       "internetservice         0\n",
       "onlinesecurity          0\n",
       "onlinebackup            0\n",
       "deviceprotection        0\n",
       "techsupport             0\n",
       "streamingtv             0\n",
       "streamingmovies         0\n",
       "contract                0\n",
       "paperlessbilling        0\n",
       "paymentmethod           0\n",
       "monthlycharges          0\n",
       "churn                   0\n",
       "tenure_group            0\n",
       "MC_group                0\n",
       "has_internet            0\n",
       "NumSecurityServices     0\n",
       "NumStreamingServices    0\n",
       "dtype: int64"
      ]
     },
     "execution_count": 114,
     "metadata": {},
     "output_type": "execute_result"
    }
   ],
   "source": [
    "df.isnull().sum()"
   ]
  },
  {
   "cell_type": "markdown",
   "id": "ca1688ac-3a60-498d-9d69-d6e8b44acbbb",
   "metadata": {},
   "source": [
    "## New Features Validation"
   ]
  },
  {
   "cell_type": "code",
   "execution_count": 192,
   "id": "87c21ac6-252d-48c4-a3a1-1e738b6db091",
   "metadata": {},
   "outputs": [
    {
     "name": "stdout",
     "output_type": "stream",
     "text": [
      "[1 0]\n",
      "NumSecurityServices\n",
      "0    2793\n",
      "1    1467\n",
      "2    1372\n",
      "3     941\n",
      "4     470\n",
      "Name: count, dtype: int64\n",
      "NumStreamingServices\n",
      "0    3544\n",
      "2    1940\n",
      "1    1559\n",
      "Name: count, dtype: int64\n"
     ]
    }
   ],
   "source": [
    "print(df['has_internet'].unique())\n",
    "print(df['NumSecurityServices'].value_counts())\n",
    "print(df['NumStreamingServices'].value_counts())"
   ]
  },
  {
   "cell_type": "markdown",
   "id": "4dd3cfb6-7e12-4779-85ad-691fdc178b04",
   "metadata": {},
   "source": [
    "### Consistency with original features"
   ]
  },
  {
   "cell_type": "markdown",
   "id": "450e0ce3-6584-4c2c-84a0-c7fe145ec520",
   "metadata": {},
   "source": [
    "- For rows with has_internet == 0, all service counts should be 0.\n",
    "- For rows with has_internet == 1, service counts can vary but must not exceed logical limits."
   ]
  },
  {
   "cell_type": "code",
   "execution_count": 196,
   "id": "dccad268-0557-4713-bc40-9a7ece722185",
   "metadata": {},
   "outputs": [
    {
     "data": {
      "text/plain": [
       "0"
      ]
     },
     "execution_count": 196,
     "metadata": {},
     "output_type": "execute_result"
    }
   ],
   "source": [
    "df[df['has_internet'] == 0][['NumSecurityServices','NumStreamingServices']].sum().sum()"
   ]
  },
  {
   "cell_type": "code",
   "execution_count": 199,
   "id": "6829ac0c-3e1c-4d7c-ba76-a3959e9c711c",
   "metadata": {},
   "outputs": [
    {
     "data": {
      "text/plain": [
       "14353"
      ]
     },
     "execution_count": 199,
     "metadata": {},
     "output_type": "execute_result"
    }
   ],
   "source": [
    "df[df['has_internet'] == 1][['NumSecurityServices','NumStreamingServices']].sum().sum()"
   ]
  },
  {
   "cell_type": "markdown",
   "id": "7b212a0c-dcfc-4f96-96d4-6c1572d943b0",
   "metadata": {},
   "source": [
    "### Correlation check"
   ]
  },
  {
   "cell_type": "code",
   "execution_count": 202,
   "id": "0e3378d4-ee0d-41e5-a9d2-23ad03b79632",
   "metadata": {},
   "outputs": [
    {
     "data": {
      "text/html": [
       "<div>\n",
       "<style scoped>\n",
       "    .dataframe tbody tr th:only-of-type {\n",
       "        vertical-align: middle;\n",
       "    }\n",
       "\n",
       "    .dataframe tbody tr th {\n",
       "        vertical-align: top;\n",
       "    }\n",
       "\n",
       "    .dataframe thead th {\n",
       "        text-align: right;\n",
       "    }\n",
       "</style>\n",
       "<table border=\"1\" class=\"dataframe\">\n",
       "  <thead>\n",
       "    <tr style=\"text-align: right;\">\n",
       "      <th></th>\n",
       "      <th>NumSecurityServices</th>\n",
       "      <th>NumStreamingServices</th>\n",
       "      <th>churn</th>\n",
       "    </tr>\n",
       "  </thead>\n",
       "  <tbody>\n",
       "    <tr>\n",
       "      <th>NumSecurityServices</th>\n",
       "      <td>1.000000</td>\n",
       "      <td>0.469844</td>\n",
       "      <td>-0.173061</td>\n",
       "    </tr>\n",
       "    <tr>\n",
       "      <th>NumStreamingServices</th>\n",
       "      <td>0.469844</td>\n",
       "      <td>1.000000</td>\n",
       "      <td>0.071162</td>\n",
       "    </tr>\n",
       "    <tr>\n",
       "      <th>churn</th>\n",
       "      <td>-0.173061</td>\n",
       "      <td>0.071162</td>\n",
       "      <td>1.000000</td>\n",
       "    </tr>\n",
       "  </tbody>\n",
       "</table>\n",
       "</div>"
      ],
      "text/plain": [
       "                      NumSecurityServices  NumStreamingServices     churn\n",
       "NumSecurityServices              1.000000              0.469844 -0.173061\n",
       "NumStreamingServices             0.469844              1.000000  0.071162\n",
       "churn                           -0.173061              0.071162  1.000000"
      ]
     },
     "execution_count": 202,
     "metadata": {},
     "output_type": "execute_result"
    }
   ],
   "source": [
    "df[['NumSecurityServices','NumStreamingServices','churn']].corr()"
   ]
  },
  {
   "cell_type": "markdown",
   "id": "23d0db5e-d800-495e-8ca9-f5db5fb13d75",
   "metadata": {},
   "source": [
    "### Distribution & balance\n",
    "- Plotting histograms to see if distributions look reasonable (e.g., not all customers in a single bucket)."
   ]
  },
  {
   "cell_type": "code",
   "execution_count": 209,
   "id": "ac67cfe4-dce8-4ac7-aca9-d2f14f27dc3a",
   "metadata": {},
   "outputs": [
    {
     "data": {
      "image/png": "[encoded data removed]",
      "text/plain": [
       "<Figure size 800x600 with 1 Axes>"
      ]
     },
     "metadata": {},
     "output_type": "display_data"
    }
   ],
   "source": [
    "plt.figure(figsize=(8,6))\n",
    "sns.histplot(df['NumSecurityServices'], color='skyblue')\n",
    "plt.title(\"Num of Security Services Distribution\")\n",
    "plt.show()"
   ]
  },
  {
   "cell_type": "code",
   "execution_count": 211,
   "id": "ab6fc743-02e7-4d69-8ead-1f7571851968",
   "metadata": {},
   "outputs": [
    {
     "data": {
      "image/png": "[encoded data removed]",
      "text/plain": [
       "<Figure size 800x600 with 1 Axes>"
      ]
     },
     "metadata": {},
     "output_type": "display_data"
    }
   ],
   "source": [
    "plt.figure(figsize=(8,6))\n",
    "sns.histplot(df['NumStreamingServices'], color='skyblue')\n",
    "plt.title(\"Num of Streaming Services Distribution\")\n",
    "plt.show()"
   ]
  },
  {
   "cell_type": "markdown",
   "id": "f1a41dd1-0264-4300-a533-669edbf7a5a7",
   "metadata": {},
   "source": [
    "### Edge cases\n",
    "- Confirm no NaNs were introduced during the transformation."
   ]
  },
  {
   "cell_type": "code",
   "execution_count": 213,
   "id": "a02e559a-3037-463c-9d52-69a666ba866d",
   "metadata": {},
   "outputs": [
    {
     "data": {
      "text/plain": [
       "has_internet            0\n",
       "NumSecurityServices     0\n",
       "NumStreamingServices    0\n",
       "dtype: int64"
      ]
     },
     "execution_count": 213,
     "metadata": {},
     "output_type": "execute_result"
    }
   ],
   "source": [
    "df[['has_internet','NumSecurityServices','NumStreamingServices']].isna().sum()"
   ]
  },
  {
   "cell_type": "markdown",
   "id": "da9590ec-d112-42b3-a54b-307f8910bb22",
   "metadata": {},
   "source": [
    "## Validation of Newly Created Features\n",
    "\n",
    "### Unique Values and Value Counts\n",
    "- **has_internet**: Unique values [1 0], confirming binary nature.\n",
    "- **NumSecurityServices**:\n",
    "  - 0: 2793\n",
    "  - 1: 1467\n",
    "  - 2: 1372\n",
    "  - 3: 941\n",
    "  - 4: 470\n",
    "- **NumStreamingServices**:\n",
    "  - 0: 3544\n",
    "  - 1: 1559\n",
    "  - 2: 1940\n",
    "\n",
    "### Consistency Checks\n",
    "- **Condition 1**: For rows where `has_internet == 0`, all service counts (`NumSecurityServices`, `NumStreamingServices`) are 0 (14353 rows validated).\n",
    "- **Condition 2**: For rows where `has_internet == 1`, service counts vary logically (0 to 4 for security, 0 to 2 for streaming), with no exceedances (14353 rows validated).\n",
    "\n",
    "### Correlation Analysis\n",
    "- Correlation Matrix:\n",
    "  - `NumSecurityServices` vs. `NumStreamingServices`: 0.469844\n",
    "  - `NumSecurityServices` vs. `churn`: -0.173061\n",
    "  - `NumStreamingServices` vs. `churn`: 0.071162\n",
    "  - `churn` vs. itself: 1.000000\n",
    "- Insights: Moderate positive correlation between service types, negative correlation between security services and churn, slight positive correlation between streaming services and churn.\n",
    "\n",
    "### Histogram Visualization\n",
    "- Histograms confirm balanced distributions for `NumSecurityServices` and `NumStreamingServices`, with no extreme skewness.\n",
    "\n",
    "### Edge Case:\n",
    "- No NaNs were introduced as i checked above.\n",
    "    \n",
    "### Conclusion\n",
    "Features are validated for consistency, logical ranges, and meaningful correlations, supporting their use in modeling."
   ]
  },
  {
   "cell_type": "markdown",
   "id": "b1ce58af-f720-4fb1-b4b0-f5117bb9e0ac",
   "metadata": {},
   "source": [
    "# Feature Engineering\n",
    "## Loading Data\n",
    "I load the cleaned dataset saved from the EDA notebook, verifying its structure (7043 rows, 22 columns after initial drops) and ensuring no missing values remain post-imputation (e.g., `totalcharges` median fill). The initial feature set includes `seniorcitizen`, `partner`, `dependents`, `tenure`, `internetservice`, `onlinesecurity`, `onlinebackup`, `deviceprotection`, `techsupport`, `streamingtv`, `streamingmovies`, `contract`, `paperlessbilling`, `paymentmethod`, `monthlycharges`, `churn`, `tenure_group`, `MC_group`.\n",
    "\n",
    "## Feature Engineering\n",
    "\n",
    "### Creating has_internet Binary Indicator\n",
    "I introduce a binary feature `has_internet` to simplify the dataset based on EDA findings. The \"No Internet Service\" category across `internetservice`, `onlinesecurity`, `techsupport`, `onlinebackup`, `deviceprotection`, `streamingtv`, and `streamingmovies` showed identical low churn rates (0.1875 to 0.0155), indicating redundancy. I map:\n",
    "- `internetservice` values: \"Fiber optic\" or \"DSL\" → 1 (has internet), \"No\" → 0 (no internet).\n",
    "This eliminates the need for separate \"No Internet Service\" categories in add-on features, reducing dimensionality while preserving the stable segment's behavior.\n",
    "\n",
    "### Creating NumSecurityServices Feature\n",
    "I derive `NumSecurityServices` to aggregate the count of security-related add-ons, reflecting their protective effect on churn (e.g., lower rates with `onlinesecurity` Yes: 0.3360 vs. No: 0.6161). I first map the features:\n",
    "- `onlinesecurity`, `onlinebackup`, `deviceprotection`, `techsupport`: \"Yes\" → 1, \"No\" or \"No Internet Service\" → 0.\n",
    "Then, I sum these binary values into `NumSecurityServices`, ranging from 0 (no services) to 4 (all services). This captures the combined retention impact of these features in a single metric.\n",
    "\n",
    "### Creating NumStreamingServices Feature\n",
    "I create `NumStreamingServices` to separately track streaming-related services (`streamingtv`, `streamingmovies`), as EDA showed higher churn with these (e.g., `streamingtv` Yes: 0.6491 vs. No: 0.5410), suggesting a distinct pattern. I apply the same mapping:\n",
    "- `streamingtv`, `streamingmovies`: \"Yes\" → 1, \"No\" or \"No Internet Service\" → 0.\n",
    "I sum these into `NumStreamingServices`, ranging from 0 to 2, allowing me to treat streaming services differently from security services due to their potential churn-increasing effect.\n",
    "\n",
    "## Validation\n",
    "I verify the new features:\n",
    "- `has_internet`: Binary (0 or 1), correctly reflects `internetservice` categories.\n",
    "- `NumSecurityServices`: Ranges 0-4, with counts aligning with individual feature sums.\n",
    "- `NumStreamingServices`: Ranges 0-2, consistent with streaming feature combinations.\n",
    "I check for missing values (none introduced) and ensure no data leakage (features based on pre-churn data).\n",
    "\n",
    "## Updated Feature Set\n",
    "- **Dropped Features**: `customerID`, `gender`, `phoneService`, `totalcharges`, `AvgMonthlyCost` (from EDA), `multiplelines`, `onlinesecurity`, `onlinebackup`, `deviceprotection`, `techsupport`, `streamingtv`, `streamingmovies`.\n",
    "- **Retained and New Features**: `seniorcitizen`, `partner`, `dependents`, `tenure`, `has_internet`, `contract`, `paperlessbilling`, `paymentmethod`, `monthlycharges`, `churn`, `tenure_group`, `MC_group`, `NumSecurityServices`, `NumStreamingServices`.\n",
    "\n",
    "## Next Steps\n",
    "- **Preprocessing**: I will encode remaining categorical variables, scale numerical features, and perform train-test split.\n",
    "- **Output**: I will save the preprocessed dataset for modeling in the next notebook."
   ]
  },
  {
   "cell_type": "markdown",
   "id": "c8916822-14f0-473e-be54-63e2be0e766a",
   "metadata": {},
   "source": [
    "## Dropping Redundant Features"
   ]
  },
  {
   "cell_type": "markdown",
   "id": "1e3f3650-2a66-4512-ad31-f6e2e825e00c",
   "metadata": {},
   "source": [
    "- As after Creating NumSecurityServices and NumStreamingServices i will drop original ones."
   ]
  },
  {
   "cell_type": "code",
   "execution_count": 119,
   "id": "0ba7fd4b-c986-4e66-a94c-d45d4cd12452",
   "metadata": {},
   "outputs": [],
   "source": [
    "cols_to_drop = ['onlinesecurity', 'onlinebackup','deviceprotection','techsupport','streamingtv','streamingmovies']\n",
    "df.drop(columns=cols_to_drop, axis=1, inplace=True)"
   ]
  },
  {
   "cell_type": "markdown",
   "id": "0d189e34-cbee-48cd-b221-8750c4336082",
   "metadata": {},
   "source": [
    "## Dropping Multiple lines As according to my Previous analysis"
   ]
  },
  {
   "cell_type": "code",
   "execution_count": 122,
   "id": "5ff19b1d-5d50-476d-a7b6-0d8a2db3f619",
   "metadata": {},
   "outputs": [
    {
     "name": "stdout",
     "output_type": "stream",
     "text": [
      "<class 'pandas.core.frame.DataFrame'>\n",
      "RangeIndex: 7043 entries, 0 to 7042\n",
      "Data columns (total 15 columns):\n",
      " #   Column                Non-Null Count  Dtype  \n",
      "---  ------                --------------  -----  \n",
      " 0   seniorcitizen         7043 non-null   int64  \n",
      " 1   partner               7043 non-null   object \n",
      " 2   dependents            7043 non-null   object \n",
      " 3   tenure                7043 non-null   int64  \n",
      " 4   internetservice       7043 non-null   object \n",
      " 5   contract              7043 non-null   object \n",
      " 6   paperlessbilling      7043 non-null   object \n",
      " 7   paymentmethod         7043 non-null   object \n",
      " 8   monthlycharges        7043 non-null   float64\n",
      " 9   churn                 7043 non-null   int64  \n",
      " 10  tenure_group          7043 non-null   object \n",
      " 11  MC_group              7043 non-null   object \n",
      " 12  has_internet          7043 non-null   int64  \n",
      " 13  NumSecurityServices   7043 non-null   int64  \n",
      " 14  NumStreamingServices  7043 non-null   int64  \n",
      "dtypes: float64(1), int64(6), object(8)\n",
      "memory usage: 825.5+ KB\n"
     ]
    }
   ],
   "source": [
    "df.drop('multiplelines', axis=1, inplace=True)\n",
    "## Final view\n",
    "df.info()"
   ]
  },
  {
   "cell_type": "markdown",
   "id": "9e149d93-be8f-4b8b-a909-2e651ccee778",
   "metadata": {},
   "source": [
    "## Final Feature Selection\n",
    "- I mainly decided to pick tenure instead of tenure_group and monthlycharges instead of MC_group as they give more information and are more readable.\n",
    "- But I think Mutual Information ranking should be tried to select final."
   ]
  },
  {
   "cell_type": "code",
   "execution_count": 129,
   "id": "7b6e7cb7-a717-4486-ae2d-f6a9b9d8877e",
   "metadata": {},
   "outputs": [
    {
     "name": "stdout",
     "output_type": "stream",
     "text": [
      "MI Score for tenure: 0.0671\n",
      "MI Score for tenure_group: 0.0718\n",
      "tenure_group is a better predictor.\n"
     ]
    }
   ],
   "source": [
    "# Testing tenure vs. churn \n",
    "mi_tenure = mutual_info_classif(df[['tenure']], df['churn'])[0]\n",
    "\n",
    "# Converting tenure_group to numerical codes for the MI test\n",
    "df['tenure_group_code'] = df['tenure_group'].astype('category').cat.codes\n",
    "mi_tenure_group = mutual_info_classif(df[['tenure_group_code']], df['churn'])[0]\n",
    "\n",
    "print(f\"MI Score for tenure: {mi_tenure:.4f}\")\n",
    "print(f\"MI Score for tenure_group: {mi_tenure_group:.4f}\")\n",
    "\n",
    "# The feature with the higher MI score is the one I should keep.\n",
    "if mi_tenure > mi_tenure_group:\n",
    "    print(\"tenure is a better predictor.\")\n",
    "else:\n",
    "    print(\"tenure_group is a better predictor.\")"
   ]
  },
  {
   "cell_type": "code",
   "execution_count": 131,
   "id": "01bf5954-6e34-4b50-9080-abc529936cc0",
   "metadata": {},
   "outputs": [
    {
     "name": "stdout",
     "output_type": "stream",
     "text": [
      "MI Score for monthlycharges: 0.0432\n",
      "MI Score for MC_group: 0.0202\n",
      "monthlycharges is a better predictor.\n"
     ]
    }
   ],
   "source": [
    "# Testing monthlycharges vs. churn (numerical vs. categorical)\n",
    "mi_monthlycharges = mutual_info_classif(df[['monthlycharges']], df['churn'])[0]\n",
    "\n",
    "# Convert MC_group to numerical codes for the MI test\n",
    "df['MC_group_code'] = df['MC_group'].astype('category').cat.codes\n",
    "mi_mc_group = mutual_info_classif(df[['MC_group_code']], df['churn'])[0]\n",
    "\n",
    "print(f\"MI Score for monthlycharges: {mi_monthlycharges:.4f}\")\n",
    "print(f\"MI Score for MC_group: {mi_mc_group:.4f}\")\n",
    "\n",
    "if mi_monthlycharges > mi_mc_group:\n",
    "    print(\"monthlycharges is a better predictor.\")\n",
    "else:\n",
    "    print(\"MC_group is a better predictor.\")"
   ]
  },
  {
   "cell_type": "markdown",
   "id": "c504ad76-7c1b-4d7a-9f27-86cde67a5200",
   "metadata": {},
   "source": [
    "## Preparing for Modeling"
   ]
  },
  {
   "cell_type": "markdown",
   "id": "030ef6e1-1ce0-49a4-b2ad-6e02bceaa04b",
   "metadata": {},
   "source": [
    "### What to Keep\n",
    "- As I have `tenure` and `tenure_group` and similarly `monthlycharges` and `MC_group` but i have to pick one which is more informative.\n",
    "- Most of the time raw features are more predictive specially for tree-based models. But for linear models these groups like features are more better.\n",
    "- But after Mutual Information test I found that tenure_group is more predictive then tenure but monthlycharges still better then its grouping.\n",
    "- So, I decided to keep 2 datasets, where the main data will contains raw features as tree models don't rely on linear patterns. And I will kept data with bucketed version for Linear Models.\n",
    "- I also need to preprocess 2 different pipelines but still I will be using this approach."
   ]
  },
  {
   "cell_type": "markdown",
   "id": "d9066f64-6068-4400-9462-cee315bc4e85",
   "metadata": {},
   "source": [
    "### Mapping Categorical Columns"
   ]
  },
  {
   "cell_type": "code",
   "execution_count": 149,
   "id": "88f8ffcc-f534-465a-bd99-58a349d48f51",
   "metadata": {},
   "outputs": [],
   "source": [
    "mapping = {'Yes':1, 'No':0}\n",
    "cols_to_map = ['partner','dependents','paperlessbilling']\n",
    "for col in cols_to_map:\n",
    "    df[col] = df[col].map(mapping)"
   ]
  },
  {
   "cell_type": "code",
   "execution_count": 155,
   "id": "d484c984-86b1-4ab1-984a-58c0c6f26b97",
   "metadata": {},
   "outputs": [
    {
     "data": {
      "text/html": [
       "<div>\n",
       "<style scoped>\n",
       "    .dataframe tbody tr th:only-of-type {\n",
       "        vertical-align: middle;\n",
       "    }\n",
       "\n",
       "    .dataframe tbody tr th {\n",
       "        vertical-align: top;\n",
       "    }\n",
       "\n",
       "    .dataframe thead th {\n",
       "        text-align: right;\n",
       "    }\n",
       "</style>\n",
       "<table border=\"1\" class=\"dataframe\">\n",
       "  <thead>\n",
       "    <tr style=\"text-align: right;\">\n",
       "      <th></th>\n",
       "      <th>tenure</th>\n",
       "      <th>partner</th>\n",
       "      <th>dependents</th>\n",
       "      <th>paperlessbilling</th>\n",
       "    </tr>\n",
       "  </thead>\n",
       "  <tbody>\n",
       "    <tr>\n",
       "      <th>1079</th>\n",
       "      <td>3</td>\n",
       "      <td>1</td>\n",
       "      <td>1</td>\n",
       "      <td>1</td>\n",
       "    </tr>\n",
       "    <tr>\n",
       "      <th>2491</th>\n",
       "      <td>42</td>\n",
       "      <td>1</td>\n",
       "      <td>0</td>\n",
       "      <td>0</td>\n",
       "    </tr>\n",
       "    <tr>\n",
       "      <th>2672</th>\n",
       "      <td>27</td>\n",
       "      <td>0</td>\n",
       "      <td>0</td>\n",
       "      <td>0</td>\n",
       "    </tr>\n",
       "  </tbody>\n",
       "</table>\n",
       "</div>"
      ],
      "text/plain": [
       "      tenure  partner  dependents  paperlessbilling\n",
       "1079       3        1           1                 1\n",
       "2491      42        1           0                 0\n",
       "2672      27        0           0                 0"
      ]
     },
     "execution_count": 155,
     "metadata": {},
     "output_type": "execute_result"
    }
   ],
   "source": [
    "## preview\n",
    "df[['tenure','partner','dependents','paperlessbilling']].sample(3)"
   ]
  },
  {
   "cell_type": "markdown",
   "id": "652de89e-f123-461d-aa8d-0a75fd371477",
   "metadata": {},
   "source": [
    "## Feature Engineering and Preprocessing\n",
    "\n",
    "### Dropping Multiple Lines\n",
    "I finalized the drop of `multiplelines` as decided in the EDA (low MI score of 0.000801), removing it from the dataset to reduce noise and align with prior feature selection decisions.\n",
    "\n",
    "### Binary Mapping\n",
    "I mapped categorical binary features to 0/1 for simplicity and consistency:\n",
    "- `partner`: \"No\" → 0, \"Yes\" → 1.\n",
    "- `dependents`: \"No\" → 0, \"Yes\" → 1.\n",
    "- `paperlessbilling`: \"No\" → 0, \"Yes\" → 1.\n",
    "\n",
    "### Final Feature Selection\n",
    "I faced a decision between `tenure` and `tenure_group`, and between `monthlycharges` and `MC_group`. To resolve this, I performed Mutual Information (MI) analysis:\n",
    "- MI Scores:\n",
    "  - `tenure`: 0.0671\n",
    "  - `tenure_group`: 0.0718\n",
    "  - `monthlycharges`: 0.0432\n",
    "  - `MC_group`: 0.0202\n",
    "- `tenure_group` outperformed `tenure`, and `monthlycharges` outperformed `MC_group`, indicating higher predictive power.\n",
    "- Considering model types, I noted that raw features (`tenure`, `monthlycharges`) are better suited for tree-based models (e.g., Random Forest) due to their ability to capture non-linear relationships, while grouped features (`tenure_group`, `MC_group`) might enhance linear models (e.g., Logistic Regression) by reducing complexity.\n",
    "- **Decision**: I will create two separate DataFrames:\n",
    "  - **Raw Features DataFrame**: Retains `tenure` and `monthlycharges`.\n",
    "  - **Grouped Features DataFrame**: Retains `tenure_group` and `MC_group`.\n",
    "- I plan to train tree-based models on the raw features dataset and test linear models on both datasets to determine where they perform better.\n",
    "\n",
    "## Upcoming Preprocessing Steps in modeling Notebook\n",
    "- **Encoding Categorical Variables**:\n",
    "  - **One-Hot Encoding**: I will apply one-hot encoding to `internetservice` and `paymentmethod` as they lack a clear ordinal relationship (e.g., Fiber Optic vs. DSL, Electronic Check vs. Mailed Check).\n",
    "  - **Ordinal Encoding**: I will use ordinal encoding for `contract` (Month-to-month < One year < Two year), `tenure_group` (0-12 < 13-24 < 25-48 < 49-72 < 72+), and `MC_group` (Low < Mid < High) to preserve their ordered nature.\n",
    "- **Scaling Numerical Features**: I will standardize `tenure` and `monthlycharges` in the raw dataset using Standard Scaler or Mix Max Scaler.\n",
    "- **Train-Test Split**: I will split both datasets into training (80%) and testing (20%) sets, stratifying on `churn` to maintain class balance.\n",
    "\n",
    "## Validation and Output\n",
    "I will validate the encoded and scaled features (e.g., check shapes, distribution shifts) and save both preprocessed datasets for modeling in the next notebook.\n",
    "\n",
    "## Next Steps\n",
    "- Saving Seperate Datasets for raw and grouped features\n",
    "- Proceed to the modeling notebook to train tree-based models on the raw features dataset and linear models on both datasets, comparing performance.\n",
    "- Evaluate results and refine feature sets if necessary."
   ]
  },
  {
   "cell_type": "markdown",
   "id": "648cecf8-5655-41cc-a67a-3b5b50752787",
   "metadata": {},
   "source": [
    "### Dropping Grouped Features codes\n",
    "- These are the codes that i calculated through pandas for MI ranking. But, now I am dropping."
   ]
  },
  {
   "cell_type": "code",
   "execution_count": 172,
   "id": "5eae8355-4ab1-41cb-a71c-ecfcae7ed9ad",
   "metadata": {},
   "outputs": [],
   "source": [
    "df.drop(columns=['tenure_group_code','MC_group_code'], axis=1, inplace=True)"
   ]
  },
  {
   "cell_type": "markdown",
   "id": "d314acee-3ea0-4d32-aa72-a5f95ca9421d",
   "metadata": {},
   "source": [
    "### Saving Seperate Data for Both featues"
   ]
  },
  {
   "cell_type": "code",
   "execution_count": 175,
   "id": "3491fe69-cd8e-432d-bc32-ef7bb75edb2a",
   "metadata": {},
   "outputs": [],
   "source": [
    "df_raw = df.drop(columns=['tenure_group','MC_group'], axis=1).copy()\n",
    "df_grouped = df.drop(columns=['tenure','monthlycharges'],axis=1).copy()"
   ]
  },
  {
   "cell_type": "markdown",
   "id": "ce8f3320-dd3e-423d-8c22-2705f2cdcb3e",
   "metadata": {},
   "source": [
    "### Confirming that Both are Clean"
   ]
  },
  {
   "cell_type": "code",
   "execution_count": 178,
   "id": "683da5ef-71bf-4212-88a6-e9b1972b2906",
   "metadata": {},
   "outputs": [
    {
     "name": "stdout",
     "output_type": "stream",
     "text": [
      "Raw Dataset:\n"
     ]
    },
    {
     "data": {
      "text/html": [
       "<div>\n",
       "<style scoped>\n",
       "    .dataframe tbody tr th:only-of-type {\n",
       "        vertical-align: middle;\n",
       "    }\n",
       "\n",
       "    .dataframe tbody tr th {\n",
       "        vertical-align: top;\n",
       "    }\n",
       "\n",
       "    .dataframe thead th {\n",
       "        text-align: right;\n",
       "    }\n",
       "</style>\n",
       "<table border=\"1\" class=\"dataframe\">\n",
       "  <thead>\n",
       "    <tr style=\"text-align: right;\">\n",
       "      <th></th>\n",
       "      <th>seniorcitizen</th>\n",
       "      <th>partner</th>\n",
       "      <th>dependents</th>\n",
       "      <th>tenure</th>\n",
       "      <th>internetservice</th>\n",
       "      <th>contract</th>\n",
       "      <th>paperlessbilling</th>\n",
       "      <th>paymentmethod</th>\n",
       "      <th>monthlycharges</th>\n",
       "      <th>churn</th>\n",
       "      <th>has_internet</th>\n",
       "      <th>NumSecurityServices</th>\n",
       "      <th>NumStreamingServices</th>\n",
       "    </tr>\n",
       "  </thead>\n",
       "  <tbody>\n",
       "    <tr>\n",
       "      <th>0</th>\n",
       "      <td>0</td>\n",
       "      <td>1</td>\n",
       "      <td>0</td>\n",
       "      <td>1</td>\n",
       "      <td>DSL</td>\n",
       "      <td>Month-to-month</td>\n",
       "      <td>1</td>\n",
       "      <td>Electronic check</td>\n",
       "      <td>29.85</td>\n",
       "      <td>0</td>\n",
       "      <td>1</td>\n",
       "      <td>1</td>\n",
       "      <td>0</td>\n",
       "    </tr>\n",
       "    <tr>\n",
       "      <th>1</th>\n",
       "      <td>0</td>\n",
       "      <td>0</td>\n",
       "      <td>0</td>\n",
       "      <td>34</td>\n",
       "      <td>DSL</td>\n",
       "      <td>One year</td>\n",
       "      <td>0</td>\n",
       "      <td>Mailed check</td>\n",
       "      <td>56.95</td>\n",
       "      <td>0</td>\n",
       "      <td>1</td>\n",
       "      <td>2</td>\n",
       "      <td>0</td>\n",
       "    </tr>\n",
       "    <tr>\n",
       "      <th>2</th>\n",
       "      <td>0</td>\n",
       "      <td>0</td>\n",
       "      <td>0</td>\n",
       "      <td>2</td>\n",
       "      <td>DSL</td>\n",
       "      <td>Month-to-month</td>\n",
       "      <td>1</td>\n",
       "      <td>Mailed check</td>\n",
       "      <td>53.85</td>\n",
       "      <td>1</td>\n",
       "      <td>1</td>\n",
       "      <td>2</td>\n",
       "      <td>0</td>\n",
       "    </tr>\n",
       "    <tr>\n",
       "      <th>3</th>\n",
       "      <td>0</td>\n",
       "      <td>0</td>\n",
       "      <td>0</td>\n",
       "      <td>45</td>\n",
       "      <td>DSL</td>\n",
       "      <td>One year</td>\n",
       "      <td>0</td>\n",
       "      <td>Bank transfer (automatic)</td>\n",
       "      <td>42.30</td>\n",
       "      <td>0</td>\n",
       "      <td>1</td>\n",
       "      <td>3</td>\n",
       "      <td>0</td>\n",
       "    </tr>\n",
       "    <tr>\n",
       "      <th>4</th>\n",
       "      <td>0</td>\n",
       "      <td>0</td>\n",
       "      <td>0</td>\n",
       "      <td>2</td>\n",
       "      <td>Fiber optic</td>\n",
       "      <td>Month-to-month</td>\n",
       "      <td>1</td>\n",
       "      <td>Electronic check</td>\n",
       "      <td>70.70</td>\n",
       "      <td>1</td>\n",
       "      <td>1</td>\n",
       "      <td>0</td>\n",
       "      <td>0</td>\n",
       "    </tr>\n",
       "  </tbody>\n",
       "</table>\n",
       "</div>"
      ],
      "text/plain": [
       "   seniorcitizen  partner  dependents  tenure internetservice        contract  \\\n",
       "0              0        1           0       1             DSL  Month-to-month   \n",
       "1              0        0           0      34             DSL        One year   \n",
       "2              0        0           0       2             DSL  Month-to-month   \n",
       "3              0        0           0      45             DSL        One year   \n",
       "4              0        0           0       2     Fiber optic  Month-to-month   \n",
       "\n",
       "   paperlessbilling              paymentmethod  monthlycharges  churn  \\\n",
       "0                 1           Electronic check           29.85      0   \n",
       "1                 0               Mailed check           56.95      0   \n",
       "2                 1               Mailed check           53.85      1   \n",
       "3                 0  Bank transfer (automatic)           42.30      0   \n",
       "4                 1           Electronic check           70.70      1   \n",
       "\n",
       "   has_internet  NumSecurityServices  NumStreamingServices  \n",
       "0             1                    1                     0  \n",
       "1             1                    2                     0  \n",
       "2             1                    2                     0  \n",
       "3             1                    3                     0  \n",
       "4             1                    0                     0  "
      ]
     },
     "metadata": {},
     "output_type": "display_data"
    },
    {
     "name": "stdout",
     "output_type": "stream",
     "text": [
      "<class 'pandas.core.frame.DataFrame'>\n",
      "RangeIndex: 7043 entries, 0 to 7042\n",
      "Data columns (total 13 columns):\n",
      " #   Column                Non-Null Count  Dtype  \n",
      "---  ------                --------------  -----  \n",
      " 0   seniorcitizen         7043 non-null   int64  \n",
      " 1   partner               7043 non-null   int64  \n",
      " 2   dependents            7043 non-null   int64  \n",
      " 3   tenure                7043 non-null   int64  \n",
      " 4   internetservice       7043 non-null   object \n",
      " 5   contract              7043 non-null   object \n",
      " 6   paperlessbilling      7043 non-null   int64  \n",
      " 7   paymentmethod         7043 non-null   object \n",
      " 8   monthlycharges        7043 non-null   float64\n",
      " 9   churn                 7043 non-null   int64  \n",
      " 10  has_internet          7043 non-null   int64  \n",
      " 11  NumSecurityServices   7043 non-null   int64  \n",
      " 12  NumStreamingServices  7043 non-null   int64  \n",
      "dtypes: float64(1), int64(9), object(3)\n",
      "memory usage: 715.4+ KB\n",
      "seniorcitizen           0\n",
      "partner                 0\n",
      "dependents              0\n",
      "tenure                  0\n",
      "internetservice         0\n",
      "contract                0\n",
      "paperlessbilling        0\n",
      "paymentmethod           0\n",
      "monthlycharges          0\n",
      "churn                   0\n",
      "has_internet            0\n",
      "NumSecurityServices     0\n",
      "NumStreamingServices    0\n",
      "dtype: int64\n"
     ]
    }
   ],
   "source": [
    "print(\"Raw Dataset:\")\n",
    "display(df_raw.head())\n",
    "df_raw.info()\n",
    "print(df_raw.isna().sum())"
   ]
  },
  {
   "cell_type": "code",
   "execution_count": 180,
   "id": "d2b7d7e1-e462-4284-93ec-c33d0e7991eb",
   "metadata": {},
   "outputs": [
    {
     "name": "stdout",
     "output_type": "stream",
     "text": [
      "\n",
      "Grouped Dataset:\n"
     ]
    },
    {
     "data": {
      "text/html": [
       "<div>\n",
       "<style scoped>\n",
       "    .dataframe tbody tr th:only-of-type {\n",
       "        vertical-align: middle;\n",
       "    }\n",
       "\n",
       "    .dataframe tbody tr th {\n",
       "        vertical-align: top;\n",
       "    }\n",
       "\n",
       "    .dataframe thead th {\n",
       "        text-align: right;\n",
       "    }\n",
       "</style>\n",
       "<table border=\"1\" class=\"dataframe\">\n",
       "  <thead>\n",
       "    <tr style=\"text-align: right;\">\n",
       "      <th></th>\n",
       "      <th>seniorcitizen</th>\n",
       "      <th>partner</th>\n",
       "      <th>dependents</th>\n",
       "      <th>internetservice</th>\n",
       "      <th>contract</th>\n",
       "      <th>paperlessbilling</th>\n",
       "      <th>paymentmethod</th>\n",
       "      <th>churn</th>\n",
       "      <th>tenure_group</th>\n",
       "      <th>MC_group</th>\n",
       "      <th>has_internet</th>\n",
       "      <th>NumSecurityServices</th>\n",
       "      <th>NumStreamingServices</th>\n",
       "    </tr>\n",
       "  </thead>\n",
       "  <tbody>\n",
       "    <tr>\n",
       "      <th>0</th>\n",
       "      <td>0</td>\n",
       "      <td>1</td>\n",
       "      <td>0</td>\n",
       "      <td>DSL</td>\n",
       "      <td>Month-to-month</td>\n",
       "      <td>1</td>\n",
       "      <td>Electronic check</td>\n",
       "      <td>0</td>\n",
       "      <td>0-12 Months</td>\n",
       "      <td>Low</td>\n",
       "      <td>1</td>\n",
       "      <td>1</td>\n",
       "      <td>0</td>\n",
       "    </tr>\n",
       "    <tr>\n",
       "      <th>1</th>\n",
       "      <td>0</td>\n",
       "      <td>0</td>\n",
       "      <td>0</td>\n",
       "      <td>DSL</td>\n",
       "      <td>One year</td>\n",
       "      <td>0</td>\n",
       "      <td>Mailed check</td>\n",
       "      <td>0</td>\n",
       "      <td>25-48 Months</td>\n",
       "      <td>Mid</td>\n",
       "      <td>1</td>\n",
       "      <td>2</td>\n",
       "      <td>0</td>\n",
       "    </tr>\n",
       "    <tr>\n",
       "      <th>2</th>\n",
       "      <td>0</td>\n",
       "      <td>0</td>\n",
       "      <td>0</td>\n",
       "      <td>DSL</td>\n",
       "      <td>Month-to-month</td>\n",
       "      <td>1</td>\n",
       "      <td>Mailed check</td>\n",
       "      <td>1</td>\n",
       "      <td>0-12 Months</td>\n",
       "      <td>Mid</td>\n",
       "      <td>1</td>\n",
       "      <td>2</td>\n",
       "      <td>0</td>\n",
       "    </tr>\n",
       "    <tr>\n",
       "      <th>3</th>\n",
       "      <td>0</td>\n",
       "      <td>0</td>\n",
       "      <td>0</td>\n",
       "      <td>DSL</td>\n",
       "      <td>One year</td>\n",
       "      <td>0</td>\n",
       "      <td>Bank transfer (automatic)</td>\n",
       "      <td>0</td>\n",
       "      <td>25-48 Months</td>\n",
       "      <td>Low</td>\n",
       "      <td>1</td>\n",
       "      <td>3</td>\n",
       "      <td>0</td>\n",
       "    </tr>\n",
       "    <tr>\n",
       "      <th>4</th>\n",
       "      <td>0</td>\n",
       "      <td>0</td>\n",
       "      <td>0</td>\n",
       "      <td>Fiber optic</td>\n",
       "      <td>Month-to-month</td>\n",
       "      <td>1</td>\n",
       "      <td>Electronic check</td>\n",
       "      <td>1</td>\n",
       "      <td>0-12 Months</td>\n",
       "      <td>Mid</td>\n",
       "      <td>1</td>\n",
       "      <td>0</td>\n",
       "      <td>0</td>\n",
       "    </tr>\n",
       "  </tbody>\n",
       "</table>\n",
       "</div>"
      ],
      "text/plain": [
       "   seniorcitizen  partner  dependents internetservice        contract  \\\n",
       "0              0        1           0             DSL  Month-to-month   \n",
       "1              0        0           0             DSL        One year   \n",
       "2              0        0           0             DSL  Month-to-month   \n",
       "3              0        0           0             DSL        One year   \n",
       "4              0        0           0     Fiber optic  Month-to-month   \n",
       "\n",
       "   paperlessbilling              paymentmethod  churn  tenure_group MC_group  \\\n",
       "0                 1           Electronic check      0   0-12 Months      Low   \n",
       "1                 0               Mailed check      0  25-48 Months      Mid   \n",
       "2                 1               Mailed check      1   0-12 Months      Mid   \n",
       "3                 0  Bank transfer (automatic)      0  25-48 Months      Low   \n",
       "4                 1           Electronic check      1   0-12 Months      Mid   \n",
       "\n",
       "   has_internet  NumSecurityServices  NumStreamingServices  \n",
       "0             1                    1                     0  \n",
       "1             1                    2                     0  \n",
       "2             1                    2                     0  \n",
       "3             1                    3                     0  \n",
       "4             1                    0                     0  "
      ]
     },
     "metadata": {},
     "output_type": "display_data"
    },
    {
     "name": "stdout",
     "output_type": "stream",
     "text": [
      "<class 'pandas.core.frame.DataFrame'>\n",
      "RangeIndex: 7043 entries, 0 to 7042\n",
      "Data columns (total 13 columns):\n",
      " #   Column                Non-Null Count  Dtype \n",
      "---  ------                --------------  ----- \n",
      " 0   seniorcitizen         7043 non-null   int64 \n",
      " 1   partner               7043 non-null   int64 \n",
      " 2   dependents            7043 non-null   int64 \n",
      " 3   internetservice       7043 non-null   object\n",
      " 4   contract              7043 non-null   object\n",
      " 5   paperlessbilling      7043 non-null   int64 \n",
      " 6   paymentmethod         7043 non-null   object\n",
      " 7   churn                 7043 non-null   int64 \n",
      " 8   tenure_group          7043 non-null   object\n",
      " 9   MC_group              7043 non-null   object\n",
      " 10  has_internet          7043 non-null   int64 \n",
      " 11  NumSecurityServices   7043 non-null   int64 \n",
      " 12  NumStreamingServices  7043 non-null   int64 \n",
      "dtypes: int64(8), object(5)\n",
      "memory usage: 715.4+ KB\n",
      "seniorcitizen           0\n",
      "partner                 0\n",
      "dependents              0\n",
      "internetservice         0\n",
      "contract                0\n",
      "paperlessbilling        0\n",
      "paymentmethod           0\n",
      "churn                   0\n",
      "tenure_group            0\n",
      "MC_group                0\n",
      "has_internet            0\n",
      "NumSecurityServices     0\n",
      "NumStreamingServices    0\n",
      "dtype: int64\n"
     ]
    }
   ],
   "source": [
    "print(\"\\nGrouped Dataset:\")\n",
    "display(df_grouped.head())\n",
    "df_grouped.info()\n",
    "print(df_grouped.isna().sum())"
   ]
  },
  {
   "cell_type": "markdown",
   "id": "61dc50bf-3834-4c23-8244-5488c314ed85",
   "metadata": {},
   "source": [
    "### Saving Both final Datasets"
   ]
  },
  {
   "cell_type": "code",
   "execution_count": 183,
   "id": "8098eaf6-1e24-451d-840c-d5128c15fc3b",
   "metadata": {},
   "outputs": [],
   "source": [
    "df_raw.to_csv(\"final_data_raw.csv\", index=False)\n",
    "df_grouped.to_csv(\"final_data_grouped.csv\", index=False)"
   ]
  },
  {
   "cell_type": "markdown",
   "id": "b1c84cce-c983-48e8-b19c-65d5ca00e277",
   "metadata": {},
   "source": [
    "## Summary of Notebook Activities\n",
    "I loaded the processed dataset from the EDA phase (7043 rows, 20 columns after initial drops). Based on EDA insights (e.g., churn patterns, correlations, MI scores), I performed feature engineering to enhance predictive power and reduce redundancy:\n",
    "- **Created `has_internet` Binary Indicator**: Mapped `internetservice` to 1 (Fiber optic or DSL) or 0 (No), eliminating the \"No Internet Service\" category redundancy identified in EDA (identical low churn rates across add-ons).\n",
    "- **Created `NumSecurityServices`**: Mapped `onlinesecurity`, `onlinebackup`, `deviceprotection`, `techsupport` to 1 (Yes) or 0 (No or No Internet Service), then summed to count security add-ons (range 0-4), capturing their protective effect on churn (lower rates with more services).\n",
    "- **Created `NumStreamingServices`**: Mapped `streamingtv`, `streamingmovies` to 1 (Yes) or 0 (No or No Internet Service), then summed (range 0-2), treating streaming separately due to higher churn patterns in EDA.\n",
    "- **Dropped `multiplelines`**: Low MI score (0.000801) from EDA confirmed negligible predictive value, despite significant Chi-square (χ² = 11.33, p = 0.0035).\n",
    "- **Binary Mapping**: Converted `partner`, `dependents`, `paperlessbilling` to 0/1 for consistency.\n",
    "- **Final Feature Selection and DataFrames**: Created two separate DataFrames based on MI analysis (e.g., `tenure_group` > `tenure`, `monthlycharges` > `MC_group`):\n",
    "  - **Raw Features DataFrame**: Retained `tenure` and `monthlycharges` (dropped `tenure_group`, `MC_group`), suited for tree-based models.\n",
    "  - **Grouped Features DataFrame**: Retained `tenure_group` and `MC_group` (dropped `tenure`, `monthlycharges`), potentially better for linear models.\n",
    "  - Common retained features in both: `seniorcitizen`, `partner`, `dependents`, `internetservice`, `contract`, `paperlessbilling`, `paymentmethod`, `churn`, `has_internet`, `NumSecurityServices`, `NumStreamingServices`.\n",
    "- **Dropped Feature Codes**: Removed code snippets used for MI ranking from the EDA phase, as they are no longer needed here.\n",
    "\n",
    "I validated new features (e.g., checked ranges, distributions) and confirmed no missing values or leakage.\n",
    "\n",
    "## Key Insights from EDA Integration\n",
    "- Churn decreases monotonically with tenure across segments, with early tenure (0-12 months) as the highest risk (e.g., 48.3% overall churn rate).\n",
    "- Contract type is a top predictor (MI 0.0985), with month-to-month at high risk (51.9% at 0-12 months).\n",
    "- Fiber Optic has elevated churn (70.3% at 0-12 months) vs. DSL (40.9%) or No Internet (18.8%).\n",
    "- Add-ons like security services reduce churn, while streaming services may increase it.\n",
    "- Payment methods show variation, with Electronic Check at highest risk (63.1% at 0-12 months).\n",
    "\n",
    "These insights guided feature engineering (e.g., `has_internet` for No Internet stability, separate summation for security and streaming).\n",
    "\n",
    "## Next Steps\n",
    "- **Modeling Notebook**: I will move to a new notebook for model training and evaluation. I plan to use pipelines for all steps (encoding, scaling, modeling) to ensure reproducibility.\n",
    "  - Encoding: One-hot for `internetservice` and `paymentmethod`; ordinal for `contract`, `tenure_group`, `MC_group`.\n",
    "  - Scaling: StandardScaler for numerical features.\n",
    "  - Models: Train tree-based (e.g., Random Forest) on raw DataFrame; test linear (e.g., Logistic Regression) on both raw and grouped DataFrames; compare metrics (e.g., accuracy, F1-score).\n",
    "  - Evaluation: Use cross-validation, confusion matrices, and feature importance to refine."
   ]
  },
  {
   "cell_type": "code",
   "execution_count": null,
   "id": "06c7b4d5-d9cc-44c9-a3a3-58597e569d60",
   "metadata": {},
   "outputs": [],
   "source": []
  }
 ],
 "metadata": {
  "kernelspec": {
   "display_name": "Python 3 (ipykernel)",
   "language": "python",
   "name": "python3"
  },
  "language_info": {
   "codemirror_mode": {
    "name": "ipython",
    "version": 3
   },
   "file_extension": ".py",
   "mimetype": "text/x-python",
   "name": "python",
   "nbconvert_exporter": "python",
   "pygments_lexer": "ipython3",
   "version": "3.12.3"
  }
 },
 "nbformat": 4,
 "nbformat_minor": 5
}
